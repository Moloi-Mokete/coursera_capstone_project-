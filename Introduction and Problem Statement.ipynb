{
    "nbformat_minor": 1, 
    "cells": [
        {
            "source": "# Introduction and Problem Statement\n", 
            "cell_type": "markdown", 
            "metadata": {
                "collapsed": true
            }
        }, 
        {
            "source": "The title of the project is \u2018Choosing a suburb to stay in Johannesburg\u2019. Johannesburg is the largest city in South Africa and one of the 50 largest urban areas in the world. It is the provincial capital and largest city of Gauteng, which is the wealthiest province in South Africa, this makes Johannesburg attractive for immigrants, investors, and people hoping for a better life. In 1950, the population of Johannesburg was 910,550 and as of 2019, Johannesburg has a population of about 5,635,127. Immigration accounts for a significant 17% of SA\u2019s population growth. For a newcomer to the big city, it can be a daunting task to determine which part of Johannesburg to settle in depending on a person\u2019s preferences. ", 
            "cell_type": "markdown", 
            "metadata": {}
        }, 
        {
            "source": "Deciding which suburb to move into in Johannesburg, should be trouble-free. People look for different things to determine a suitable place to stay depending on their needs, priorities and likings. Some of the factors people consider to determine neighborhoods to stay in includes crime rate, schools, healthcare availability, jobs, cost of living, etc. A platform, either mobile application or website, that allows  people to screen suburbs in Johannesburg on the mentioned factors would make a huge difference and save people  time , energy and money that goes into choosing the most favorable  place to settle into. ", 
            "cell_type": "markdown", 
            "metadata": {}
        }, 
        {
            "source": "At the present moment choosing the right suburb to settle into involves a lot of work and stress on individuals. This includes searching on the information internet, making calls and visiting different suburbs physically. A website, http://www.teleport.org provides information about the whole city of Johannesburg for people willing to relocate to the city but the site does not analyze individual suburbs within Johannesburg. ", 
            "cell_type": "markdown", 
            "metadata": {}
        }, 
        {
            "source": "In response to this problem my project proposes to come up with a solution. My solution uses machine learning, clustering in particular, to analyze profiles of suburbs in Johannesburg and categories them. The project considers three factors which are crime rate, school availability and healthcare availability in each suburb. The suburbs are then categorized into three clusters, from best to worst based on crime rate, school availability and healthcare availability.", 
            "cell_type": "markdown", 
            "metadata": {}
        }, 
        {
            "execution_count": null, 
            "cell_type": "code", 
            "metadata": {}, 
            "outputs": [], 
            "source": ""
        }
    ], 
    "metadata": {
        "kernelspec": {
            "display_name": "Python 3.6", 
            "name": "python3", 
            "language": "python"
        }, 
        "language_info": {
            "mimetype": "text/x-python", 
            "nbconvert_exporter": "python", 
            "version": "3.6.8", 
            "name": "python", 
            "file_extension": ".py", 
            "pygments_lexer": "ipython3", 
            "codemirror_mode": {
                "version": 3, 
                "name": "ipython"
            }
        }
    }, 
    "nbformat": 4
}